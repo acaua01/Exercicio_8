{
 "cells": [
  {
   "cell_type": "markdown",
   "id": "b4630ca0",
   "metadata": {},
   "source": [
    "# Exercício 8\n",
    "resolva a equa¸c˜ao linear a.x = b"
   ]
  },
  {
   "cell_type": "code",
   "execution_count": 8,
   "id": "028e9e90",
   "metadata": {},
   "outputs": [],
   "source": [
    "# Atribuição de variáveis"
   ]
  },
  {
   "cell_type": "code",
   "execution_count": 11,
   "id": "591950d5",
   "metadata": {},
   "outputs": [
    {
     "name": "stdout",
     "output_type": "stream",
     "text": [
      "Qual seria o coeficiente a? 32\n",
      "Qual o coeficiente b? 6\n"
     ]
    }
   ],
   "source": [
    "# Entrada de dados\n",
    "\n",
    "a = float(input(\"Qual seria o coeficiente a? \"))\n",
    "b = float(input(\"Qual o coeficiente b? \"))"
   ]
  },
  {
   "cell_type": "code",
   "execution_count": 12,
   "id": "ddd069b7",
   "metadata": {},
   "outputs": [],
   "source": [
    "# Processamento de dados\n",
    "\n",
    "x = a/b"
   ]
  },
  {
   "cell_type": "code",
   "execution_count": 13,
   "id": "560cd72f",
   "metadata": {},
   "outputs": [
    {
     "name": "stdout",
     "output_type": "stream",
     "text": [
      "5.333333333333333\n"
     ]
    }
   ],
   "source": [
    "# Saída de dados\n",
    "\n",
    "print(x)"
   ]
  },
  {
   "cell_type": "code",
   "execution_count": null,
   "id": "0cb4aae5",
   "metadata": {},
   "outputs": [],
   "source": []
  }
 ],
 "metadata": {
  "kernelspec": {
   "display_name": "Python 3 (ipykernel)",
   "language": "python",
   "name": "python3"
  },
  "language_info": {
   "codemirror_mode": {
    "name": "ipython",
    "version": 3
   },
   "file_extension": ".py",
   "mimetype": "text/x-python",
   "name": "python",
   "nbconvert_exporter": "python",
   "pygments_lexer": "ipython3",
   "version": "3.10.9"
  }
 },
 "nbformat": 4,
 "nbformat_minor": 5
}
